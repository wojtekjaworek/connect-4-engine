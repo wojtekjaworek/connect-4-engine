{
 "cells": [
  {
   "cell_type": "code",
   "execution_count": 1,
   "source": [
    "from engine.agent import Human, RandomAgent, MCTSAgent\r\n",
    "import numpy as np\r\n",
    "from engine.board import Board\r\n",
    "from engine.env import Env\r\n",
    "from sim import play\r\n",
    "\r\n",
    "game_env = Env()\r\n",
    "\r\n",
    "player1 = MCTSAgent(game_env=game_env, player_to_move=1, search_depth=1000)\r\n",
    "player2 = Human(game_env=game_env, player_to_move=-1)\r\n",
    "\r\n",
    "p1 = 0\r\n",
    "p2 = 0\r\n",
    "d = 0\r\n",
    "for i in range(1):\r\n",
    "    result = play(player1=player1, player2=player2, game_env=game_env, display=True)\r\n",
    "    game_env.reset()\r\n",
    "    if result == 1: p1 += result\r\n",
    "    elif result == -1: p2 += -result\r\n",
    "    else: d += (result+1)\r\n",
    "    print('games played: ', i)\r\n",
    "\r\n",
    "\r\n",
    "print(f'simulation results:         player1 win: {p1}          player2 win: {p2}       draw: {d}')"
   ],
   "outputs": [
    {
     "output_type": "stream",
     "name": "stdout",
     "text": [
      "now it is turn for player:  1\n",
      "[[0 0 0 0 0 0 0]\n",
      " [0 0 0 0 0 0 0]\n",
      " [0 0 0 0 0 0 0]\n",
      " [0 0 0 0 0 0 0]\n",
      " [0 0 0 0 0 0 0]\n",
      " [0 0 0 1 0 0 0]]\n",
      "now it is turn for player:  -1\n",
      "child 0 === player to move: 1 === parent action: 6 === ucb: -0.07504385555338816 === visits: 114 === score: 47.56929473611463\n",
      "child 1 === player to move: 1 === parent action: 5 === ucb: -0.07247530424685555 === visits: 191 === score: 58.803793085821866\n",
      "child 2 === player to move: 1 === parent action: 4 === ucb: -0.0755251702242008 === visits: 130 === score: 50.115297304608724\n",
      "child 3 === player to move: 1 === parent action: 3 === ucb: -0.08822673669285258 === visits: 319 === score: 65.74015179974992\n",
      "child 4 === player to move: 1 === parent action: 2 === ucb: -0.06865233621962435 === visits: 143 === score: 53.04157384513593\n",
      "child 5 === player to move: 1 === parent action: 1 === ucb: -0.07993348151376312 === visits: 53 === score: 34.031581598996326\n",
      "child 6 === player to move: 1 === parent action: 0 === ucb: -0.07991713936526235 === visits: 50 === score: 33.173364920235265\n",
      "[[ 0  0  0  0  0  0  0]\n",
      " [ 0  0  0  0  0  0  0]\n",
      " [ 0  0  0  0  0  0  0]\n",
      " [ 0  0  0  0  0  0  0]\n",
      " [ 0  0  0  0  0  0  0]\n",
      " [-1  0  0  1  0  0  0]]\n",
      "now it is turn for player:  1\n",
      "[[ 0  0  0  0  0  0  0]\n",
      " [ 0  0  0  0  0  0  0]\n",
      " [ 0  0  0  0  0  0  0]\n",
      " [ 0  0  0  0  0  0  0]\n",
      " [ 0  0  0  1  0  0  0]\n",
      " [-1  0  0  1  0  0  0]]\n",
      "now it is turn for player:  -1\n",
      "child 0 === player to move: 1 === parent action: 6 === ucb: 0.20655904348882637 === visits: 28 === score: 33.598551945635066\n",
      "child 1 === player to move: 1 === parent action: 5 === ucb: 0.19209657318925832 === visits: 195 === score: 110.86216356008829\n",
      "child 2 === player to move: 1 === parent action: 4 === ucb: 0.1594275065831629 === visits: 327 === score: 147.18722066699743\n",
      "child 3 === player to move: 1 === parent action: 3 === ucb: 0.18875157156040734 === visits: 176 === score: 102.9559182451064\n",
      "child 4 === player to move: 1 === parent action: 2 === ucb: 0.19152029134741766 === visits: 61 === score: 52.73748522083283\n",
      "child 5 === player to move: 1 === parent action: 1 === ucb: 0.20354856953356015 === visits: 24 === score: 30.636757984277608\n",
      "child 6 === player to move: 1 === parent action: 0 === ucb: 0.18552790363496613 === visits: 189 === score: 107.33000049329172\n",
      "[[ 0  0  0  0  0  0  0]\n",
      " [ 0  0  0  0  0  0  0]\n",
      " [ 0  0  0  0  0  0  0]\n",
      " [ 0  0  0  0  0  0  0]\n",
      " [ 0  0  0  1  0  0  0]\n",
      " [-1 -1  0  1  0  0  0]]\n",
      "now it is turn for player:  1\n",
      "[[ 0  0  0  0  0  0  0]\n",
      " [ 0  0  0  0  0  0  0]\n",
      " [ 0  0  0  0  0  0  0]\n",
      " [ 0  0  0  1  0  0  0]\n",
      " [ 0  0  0  1  0  0  0]\n",
      " [-1 -1  0  1  0  0  0]]\n",
      "now it is turn for player:  -1\n",
      "child 0 === player to move: 1 === parent action: 6 === ucb: 0.030108541529561883 === visits: 8 === score: 15.108557087635848\n",
      "child 1 === player to move: 1 === parent action: 5 === ucb: -0.0027240251621970524 === visits: 37 === score: 31.87338472977306\n",
      "child 2 === player to move: 1 === parent action: 4 === ucb: -0.015921122428312784 === visits: 85 === score: 47.10944074059534\n",
      "child 3 === player to move: 1 === parent action: 3 === ucb: -0.029557521018824806 === visits: 641 === score: 114.138130511179\n",
      "child 4 === player to move: 1 === parent action: 2 === ucb: -0.019004430255410987 === visits: 38 === score: 31.68120805469528\n",
      "child 5 === player to move: 1 === parent action: 1 === ucb: -0.031825143996051464 === visits: 126 === score: 54.99434238214469\n",
      "child 6 === player to move: 1 === parent action: 0 === ucb: -0.022983704257289572 === visits: 65 === score: 40.88549259059901\n",
      "[[ 0  0  0  0  0  0  0]\n",
      " [ 0  0  0  0  0  0  0]\n",
      " [ 0  0  0  0  0  0  0]\n",
      " [ 0  0  0  1  0  0  0]\n",
      " [ 0  0  0  1  0  0  0]\n",
      " [-1 -1  0  1  0  0 -1]]\n",
      "now it is turn for player:  1\n"
     ]
    },
    {
     "output_type": "error",
     "ename": "KeyboardInterrupt",
     "evalue": "Interrupted by user",
     "traceback": [
      "\u001b[1;31m---------------------------------------------------------------------------\u001b[0m",
      "\u001b[1;31mKeyboardInterrupt\u001b[0m                         Traceback (most recent call last)",
      "\u001b[1;32m~\\AppData\\Local\\Temp/ipykernel_12940/2133500482.py\u001b[0m in \u001b[0;36m<module>\u001b[1;34m\u001b[0m\n\u001b[0;32m     14\u001b[0m \u001b[0md\u001b[0m \u001b[1;33m=\u001b[0m \u001b[1;36m0\u001b[0m\u001b[1;33m\u001b[0m\u001b[1;33m\u001b[0m\u001b[0m\n\u001b[0;32m     15\u001b[0m \u001b[1;32mfor\u001b[0m \u001b[0mi\u001b[0m \u001b[1;32min\u001b[0m \u001b[0mrange\u001b[0m\u001b[1;33m(\u001b[0m\u001b[1;36m1\u001b[0m\u001b[1;33m)\u001b[0m\u001b[1;33m:\u001b[0m\u001b[1;33m\u001b[0m\u001b[1;33m\u001b[0m\u001b[0m\n\u001b[1;32m---> 16\u001b[1;33m     \u001b[0mresult\u001b[0m \u001b[1;33m=\u001b[0m \u001b[0mplay\u001b[0m\u001b[1;33m(\u001b[0m\u001b[0mplayer1\u001b[0m\u001b[1;33m=\u001b[0m\u001b[0mplayer2\u001b[0m\u001b[1;33m,\u001b[0m \u001b[0mplayer2\u001b[0m\u001b[1;33m=\u001b[0m\u001b[0mplayer1\u001b[0m\u001b[1;33m,\u001b[0m \u001b[0mgame_env\u001b[0m\u001b[1;33m=\u001b[0m\u001b[0mgame_env\u001b[0m\u001b[1;33m,\u001b[0m \u001b[0mdisplay\u001b[0m\u001b[1;33m=\u001b[0m\u001b[1;32mTrue\u001b[0m\u001b[1;33m)\u001b[0m\u001b[1;33m\u001b[0m\u001b[1;33m\u001b[0m\u001b[0m\n\u001b[0m\u001b[0;32m     17\u001b[0m     \u001b[0mgame_env\u001b[0m\u001b[1;33m.\u001b[0m\u001b[0mreset\u001b[0m\u001b[1;33m(\u001b[0m\u001b[1;33m)\u001b[0m\u001b[1;33m\u001b[0m\u001b[1;33m\u001b[0m\u001b[0m\n\u001b[0;32m     18\u001b[0m     \u001b[1;32mif\u001b[0m \u001b[0mresult\u001b[0m \u001b[1;33m==\u001b[0m \u001b[1;36m1\u001b[0m\u001b[1;33m:\u001b[0m \u001b[0mp1\u001b[0m \u001b[1;33m+=\u001b[0m \u001b[0mresult\u001b[0m\u001b[1;33m\u001b[0m\u001b[1;33m\u001b[0m\u001b[0m\n",
      "\u001b[1;32mc:\\Users\\jawor\\PycharmProjects\\connect-4-engine\\sim.py\u001b[0m in \u001b[0;36mplay\u001b[1;34m(player1, player2, game_env, display)\u001b[0m\n\u001b[0;32m     32\u001b[0m             \u001b[0mplayer2\u001b[0m\u001b[1;33m.\u001b[0m\u001b[0mupdate_game_env\u001b[0m\u001b[1;33m(\u001b[0m\u001b[0mgame_env\u001b[0m\u001b[1;33m=\u001b[0m\u001b[0mgame_env\u001b[0m\u001b[1;33m)\u001b[0m\u001b[1;33m\u001b[0m\u001b[1;33m\u001b[0m\u001b[0m\n\u001b[0;32m     33\u001b[0m             \u001b[0mprint\u001b[0m\u001b[1;33m(\u001b[0m\u001b[1;34m'now it is turn for player: '\u001b[0m\u001b[1;33m,\u001b[0m \u001b[0mgame_env\u001b[0m\u001b[1;33m.\u001b[0m\u001b[0mboard\u001b[0m\u001b[1;33m.\u001b[0m\u001b[0mplayer_to_move\u001b[0m\u001b[1;33m)\u001b[0m\u001b[1;33m\u001b[0m\u001b[1;33m\u001b[0m\u001b[0m\n\u001b[1;32m---> 34\u001b[1;33m             \u001b[0mmove1\u001b[0m \u001b[1;33m=\u001b[0m \u001b[0mplayer1\u001b[0m\u001b[1;33m.\u001b[0m\u001b[0mselect_move\u001b[0m\u001b[1;33m(\u001b[0m\u001b[1;33m)\u001b[0m\u001b[1;33m\u001b[0m\u001b[1;33m\u001b[0m\u001b[0m\n\u001b[0m\u001b[0;32m     35\u001b[0m             \u001b[1;31m# clear_output(wait=True)\u001b[0m\u001b[1;33m\u001b[0m\u001b[1;33m\u001b[0m\u001b[1;33m\u001b[0m\u001b[0m\n\u001b[0;32m     36\u001b[0m             \u001b[0mgame_env\u001b[0m\u001b[1;33m.\u001b[0m\u001b[0mboard\u001b[0m\u001b[1;33m.\u001b[0m\u001b[0mmake_move\u001b[0m\u001b[1;33m(\u001b[0m\u001b[0mmove1\u001b[0m\u001b[1;33m,\u001b[0m \u001b[0mplayer_to_move\u001b[0m\u001b[1;33m=\u001b[0m\u001b[1;36m1\u001b[0m\u001b[1;33m)\u001b[0m\u001b[1;33m\u001b[0m\u001b[1;33m\u001b[0m\u001b[0m\n",
      "\u001b[1;32mc:\\Users\\jawor\\PycharmProjects\\connect-4-engine\\engine\\agent.py\u001b[0m in \u001b[0;36mselect_move\u001b[1;34m(self)\u001b[0m\n\u001b[0;32m     23\u001b[0m     \u001b[1;32mdef\u001b[0m \u001b[0mselect_move\u001b[0m\u001b[1;33m(\u001b[0m\u001b[0mself\u001b[0m\u001b[1;33m)\u001b[0m\u001b[1;33m:\u001b[0m\u001b[1;33m\u001b[0m\u001b[1;33m\u001b[0m\u001b[0m\n\u001b[0;32m     24\u001b[0m \u001b[1;33m\u001b[0m\u001b[0m\n\u001b[1;32m---> 25\u001b[1;33m         \u001b[0mmove\u001b[0m \u001b[1;33m=\u001b[0m \u001b[0minput\u001b[0m\u001b[1;33m(\u001b[0m\u001b[1;34m'Your move (select col numer, starting from 0): '\u001b[0m\u001b[1;33m)\u001b[0m\u001b[1;33m\u001b[0m\u001b[1;33m\u001b[0m\u001b[0m\n\u001b[0m\u001b[0;32m     26\u001b[0m \u001b[1;33m\u001b[0m\u001b[0m\n\u001b[0;32m     27\u001b[0m \u001b[1;33m\u001b[0m\u001b[0m\n",
      "\u001b[1;32m~\\AppData\\Roaming\\Python\\Python38\\site-packages\\ipykernel\\kernelbase.py\u001b[0m in \u001b[0;36mraw_input\u001b[1;34m(self, prompt)\u001b[0m\n\u001b[0;32m    979\u001b[0m                 \u001b[1;34m\"raw_input was called, but this frontend does not support input requests.\"\u001b[0m\u001b[1;33m\u001b[0m\u001b[1;33m\u001b[0m\u001b[0m\n\u001b[0;32m    980\u001b[0m             )\n\u001b[1;32m--> 981\u001b[1;33m         return self._input_request(\n\u001b[0m\u001b[0;32m    982\u001b[0m             \u001b[0mstr\u001b[0m\u001b[1;33m(\u001b[0m\u001b[0mprompt\u001b[0m\u001b[1;33m)\u001b[0m\u001b[1;33m,\u001b[0m\u001b[1;33m\u001b[0m\u001b[1;33m\u001b[0m\u001b[0m\n\u001b[0;32m    983\u001b[0m             \u001b[0mself\u001b[0m\u001b[1;33m.\u001b[0m\u001b[0m_parent_ident\u001b[0m\u001b[1;33m[\u001b[0m\u001b[1;34m\"shell\"\u001b[0m\u001b[1;33m]\u001b[0m\u001b[1;33m,\u001b[0m\u001b[1;33m\u001b[0m\u001b[1;33m\u001b[0m\u001b[0m\n",
      "\u001b[1;32m~\\AppData\\Roaming\\Python\\Python38\\site-packages\\ipykernel\\kernelbase.py\u001b[0m in \u001b[0;36m_input_request\u001b[1;34m(self, prompt, ident, parent, password)\u001b[0m\n\u001b[0;32m   1024\u001b[0m             \u001b[1;32mexcept\u001b[0m \u001b[0mKeyboardInterrupt\u001b[0m\u001b[1;33m:\u001b[0m\u001b[1;33m\u001b[0m\u001b[1;33m\u001b[0m\u001b[0m\n\u001b[0;32m   1025\u001b[0m                 \u001b[1;31m# re-raise KeyboardInterrupt, to truncate traceback\u001b[0m\u001b[1;33m\u001b[0m\u001b[1;33m\u001b[0m\u001b[1;33m\u001b[0m\u001b[0m\n\u001b[1;32m-> 1026\u001b[1;33m                 \u001b[1;32mraise\u001b[0m \u001b[0mKeyboardInterrupt\u001b[0m\u001b[1;33m(\u001b[0m\u001b[1;34m\"Interrupted by user\"\u001b[0m\u001b[1;33m)\u001b[0m \u001b[1;32mfrom\u001b[0m \u001b[1;32mNone\u001b[0m\u001b[1;33m\u001b[0m\u001b[1;33m\u001b[0m\u001b[0m\n\u001b[0m\u001b[0;32m   1027\u001b[0m             \u001b[1;32mexcept\u001b[0m \u001b[0mException\u001b[0m \u001b[1;32mas\u001b[0m \u001b[0me\u001b[0m\u001b[1;33m:\u001b[0m\u001b[1;33m\u001b[0m\u001b[1;33m\u001b[0m\u001b[0m\n\u001b[0;32m   1028\u001b[0m                 \u001b[0mself\u001b[0m\u001b[1;33m.\u001b[0m\u001b[0mlog\u001b[0m\u001b[1;33m.\u001b[0m\u001b[0mwarning\u001b[0m\u001b[1;33m(\u001b[0m\u001b[1;34m\"Invalid Message:\"\u001b[0m\u001b[1;33m,\u001b[0m \u001b[0mexc_info\u001b[0m\u001b[1;33m=\u001b[0m\u001b[1;32mTrue\u001b[0m\u001b[1;33m)\u001b[0m\u001b[1;33m\u001b[0m\u001b[1;33m\u001b[0m\u001b[0m\n",
      "\u001b[1;31mKeyboardInterrupt\u001b[0m: Interrupted by user"
     ]
    }
   ],
   "metadata": {}
  }
 ],
 "metadata": {
  "orig_nbformat": 4,
  "language_info": {
   "name": "python",
   "version": "3.8.8",
   "mimetype": "text/x-python",
   "codemirror_mode": {
    "name": "ipython",
    "version": 3
   },
   "pygments_lexer": "ipython3",
   "nbconvert_exporter": "python",
   "file_extension": ".py"
  },
  "kernelspec": {
   "name": "python3",
   "display_name": "Python 3.8.8 64-bit"
  },
  "interpreter": {
   "hash": "f1509f4195bd072c293a0f436d8435f750b5ccee834ec5d890f07a4d58758c47"
  }
 },
 "nbformat": 4,
 "nbformat_minor": 2
}