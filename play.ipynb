{
 "cells": [
  {
   "cell_type": "code",
   "execution_count": null,
   "source": [
    "from engine.agent import Human, RandomAgent, MCTSAgent, NNAgent\r\n",
    "import numpy as np\r\n",
    "from engine.board import Board\r\n",
    "from engine.env import Env\r\n",
    "from engine.neural_network import NeuralNetwork\r\n",
    "from sim import play\r\n",
    "import copy\r\n",
    "\r\n",
    "game_env = Env(player_to_start=1)  # 1 or -1 \r\n",
    "neural_network = NeuralNetwork()\r\n",
    "players = [RandomAgent(game_env=game_env, player_to_move=1), RandomAgent(game_env=game_env, player_to_move=-1)]  # list of players\r\n",
    "played_games = []\r\n",
    "\r\n",
    "p1 = 0\r\n",
    "p2 = 0\r\n",
    "d = 0\r\n",
    "for i in range(10):\r\n",
    "    result, board_history = play(players=players, game_env=game_env, display=False)\r\n",
    "    played_games.append(copy.deepcopy(board_history))\r\n",
    "    game_env.reset()\r\n",
    "    if result == 1: p1 += result\r\n",
    "    elif result == -1: p2 += -result\r\n",
    "    else: d += (result+1)\r\n",
    "    print('games played: ', i)\r\n",
    "\r\n",
    "\r\n",
    "print(f'simulation results:         player1 win: {p1}          player2 win: {p2}       draw: {d}')\r\n",
    "print('game history: ')\r\n",
    "i = 0\r\n",
    "# for game in played_games:\r\n",
    "#     print(' ========== GAME NUMER: ', i)\r\n",
    "#     for g in board_history:\r\n",
    "#         print(g[0], \" player to move in this position: \", g[1])\r\n",
    "#     i += 1\r\n",
    "\r\n",
    "\r\n",
    "neural_network.train(training_data=played_games)\r\n",
    "\r\n"
   ],
   "outputs": [],
   "metadata": {}
  }
 ],
 "metadata": {
  "orig_nbformat": 4,
  "language_info": {
   "name": "python",
   "version": "3.8.8",
   "mimetype": "text/x-python",
   "codemirror_mode": {
    "name": "ipython",
    "version": 3
   },
   "pygments_lexer": "ipython3",
   "nbconvert_exporter": "python",
   "file_extension": ".py"
  },
  "kernelspec": {
   "name": "python3",
   "display_name": "Python 3.8.8 64-bit"
  },
  "interpreter": {
   "hash": "f1509f4195bd072c293a0f436d8435f750b5ccee834ec5d890f07a4d58758c47"
  }
 },
 "nbformat": 4,
 "nbformat_minor": 2
}