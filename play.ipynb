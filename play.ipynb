{
 "cells": [
  {
   "cell_type": "code",
   "execution_count": null,
   "source": [
    "from engine.agent import Human, RandomAgent, MCTSAgent\r\n",
    "import numpy as np\r\n",
    "from engine.board import Board\r\n",
    "from engine.env import Env\r\n",
    "from sim import play\r\n",
    "\r\n",
    "game_env = Env(player_to_start=1)  # 1 or -1 \r\n",
    "players = [MCTSAgent(game_env=game_env, player_to_move=-1, search_depth=1000), Human(game_env=game_env, player_to_move=-1)]  # list of players\r\n",
    "\r\n",
    "p1 = 0\r\n",
    "p2 = 0\r\n",
    "d = 0\r\n",
    "for i in range(1):\r\n",
    "    result = play(players=players, game_env=game_env, display=True)\r\n",
    "    game_env.reset()\r\n",
    "    if result == 1: p1 += result\r\n",
    "    elif result == -1: p2 += -result\r\n",
    "    else: d += (result+1)\r\n",
    "    print('games played: ', i)\r\n",
    "\r\n",
    "\r\n",
    "print(f'simulation results:         player1 win: {p1}          player2 win: {p2}       draw: {d}')"
   ],
   "outputs": [],
   "metadata": {}
  }
 ],
 "metadata": {
  "orig_nbformat": 4,
  "language_info": {
   "name": "python",
   "version": "3.8.8",
   "mimetype": "text/x-python",
   "codemirror_mode": {
    "name": "ipython",
    "version": 3
   },
   "pygments_lexer": "ipython3",
   "nbconvert_exporter": "python",
   "file_extension": ".py"
  },
  "kernelspec": {
   "name": "python3",
   "display_name": "Python 3.8.8 64-bit"
  },
  "interpreter": {
   "hash": "f1509f4195bd072c293a0f436d8435f750b5ccee834ec5d890f07a4d58758c47"
  }
 },
 "nbformat": 4,
 "nbformat_minor": 2
}